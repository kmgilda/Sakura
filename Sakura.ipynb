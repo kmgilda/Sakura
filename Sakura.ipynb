{
 "cells": [
  {
   "cell_type": "code",
   "execution_count": 255,
   "metadata": {},
   "outputs": [],
   "source": [
    "from flask import Flask, flash, request, redirect, url_for, render_template, jsonify\n",
    "import os"
   ]
  },
  {
   "cell_type": "code",
   "execution_count": 256,
   "metadata": {},
   "outputs": [],
   "source": [
    "import mysql.connector"
   ]
  },
  {
   "cell_type": "code",
   "execution_count": 257,
   "metadata": {},
   "outputs": [],
   "source": [
    "connection = mysql.connector.connect(user='root', password='kmgilda@007',\n",
    "                              host='127.0.0.1',\n",
    "                              database='sakura')"
   ]
  },
  {
   "cell_type": "code",
   "execution_count": 258,
   "metadata": {},
   "outputs": [],
   "source": [
    "cursor = connection.cursor()"
   ]
  },
  {
   "cell_type": "code",
   "execution_count": 259,
   "metadata": {},
   "outputs": [],
   "source": [
    "app = Flask(__name__)\n",
    "app.secret_key = os.urandom(24)"
   ]
  },
  {
   "cell_type": "code",
   "execution_count": 260,
   "metadata": {},
   "outputs": [],
   "source": [
    "@app.route('/',methods=['GET','POST'])\n",
    "def return_home_screen():\n",
    "    if request.method == 'GET':\n",
    "        return render_template(\"SakuraHomePage.html\")\n",
    "    if request.method == \"POST\":\n",
    "        searchQuery = request.form['searchQuery']\n",
    "        sqlQuery = \"SELECT websitelink, websitetext from SearchEngine where MATCH(websitetext) AGAINST ('\" + searchQuery + \"' WITH QUERY EXPANSION)\"\n",
    "        cursor.execute(sqlQuery)\n",
    "        myresult = cursor.fetchall()\n",
    "        if cursor.rowcount == 0:\n",
    "            insertSearchTermSQLQuery = \"insert into UserSearches(searchterm) values ('\"+searchQuery+\"')\"\n",
    "            cursor.execute(insertSearchTermSQLQuery)\n",
    "        return render_template(\"SakuraHomePage.html\",resultset = myresult)\n",
    "    \n",
    "@app.route('/getsearchentries',methods=['POST'])\n",
    "def get_search_entries():\n",
    "    if request.method == 'POST':\n",
    "        searchTerm = request.form['searchTerm']\n",
    "        #sqlQueryForSearchEntry = \"SELECT searchterm from UserSearches where MATCH(searchterm) AGAINST ('\" + searchTerm + \"' WITH QUERY EXPANSION) limit 5\" \n",
    "        sqlQueryForSearchEntry = \"SELECT DISTINCT searchterm from UserSearches where searchterm like '%\" + searchTerm + \"%'\"\n",
    "        cursor.execute(sqlQueryForSearchEntry)\n",
    "        resultsearchentry = [row[0] for row in cursor.fetchall()]\n",
    "        print(resultsearchentry)\n",
    "        return jsonify(resultsearchentry)"
   ]
  },
  {
   "cell_type": "code",
   "execution_count": 261,
   "metadata": {},
   "outputs": [
    {
     "name": "stderr",
     "output_type": "stream",
     "text": [
      " * Running on http://127.0.0.1:5000/ (Press CTRL+C to quit)\n",
      "127.0.0.1 - - [14/Aug/2020 19:37:51] \"\u001b[37mGET / HTTP/1.1\u001b[0m\" 200 -\n",
      "127.0.0.1 - - [14/Aug/2020 19:37:54] \"\u001b[37mPOST /getsearchentries HTTP/1.1\u001b[0m\" 200 -\n"
     ]
    },
    {
     "name": "stdout",
     "output_type": "stream",
     "text": [
      "['bing', 'google', 'google i hate you', 'google i know you', 'google i love you', 'google i dont know you', 'google is the best', 'google hello there']\n"
     ]
    },
    {
     "name": "stderr",
     "output_type": "stream",
     "text": [
      "127.0.0.1 - - [14/Aug/2020 19:37:54] \"\u001b[37mPOST /getsearchentries HTTP/1.1\u001b[0m\" 200 -\n",
      "127.0.0.1 - - [14/Aug/2020 19:37:54] \"\u001b[37mPOST /getsearchentries HTTP/1.1\u001b[0m\" 200 -\n"
     ]
    },
    {
     "name": "stdout",
     "output_type": "stream",
     "text": [
      "['google', 'google i hate you', 'google i know you', 'google i love you', 'google i dont know you', 'google is the best', 'google hello there']\n",
      "['google', 'google i hate you', 'google i know you', 'google i love you', 'google i dont know you', 'google is the best', 'google hello there']\n"
     ]
    },
    {
     "name": "stderr",
     "output_type": "stream",
     "text": [
      "127.0.0.1 - - [14/Aug/2020 19:37:55] \"\u001b[37mPOST /getsearchentries HTTP/1.1\u001b[0m\" 200 -\n",
      "127.0.0.1 - - [14/Aug/2020 19:37:55] \"\u001b[37mPOST /getsearchentries HTTP/1.1\u001b[0m\" 200 -\n"
     ]
    },
    {
     "name": "stdout",
     "output_type": "stream",
     "text": [
      "['google', 'google i hate you', 'google i know you', 'google i love you', 'google i dont know you', 'google is the best', 'google hello there']\n",
      "['google', 'google i hate you', 'google i know you', 'google i love you', 'google i dont know you', 'google is the best', 'google hello there']\n"
     ]
    },
    {
     "name": "stderr",
     "output_type": "stream",
     "text": [
      "127.0.0.1 - - [14/Aug/2020 19:37:55] \"\u001b[37mPOST /getsearchentries HTTP/1.1\u001b[0m\" 200 -\n"
     ]
    },
    {
     "name": "stdout",
     "output_type": "stream",
     "text": [
      "['google', 'google i hate you', 'google i know you', 'google i love you', 'google i dont know you', 'google is the best', 'google hello there']\n"
     ]
    },
    {
     "name": "stderr",
     "output_type": "stream",
     "text": [
      "127.0.0.1 - - [14/Aug/2020 19:37:57] \"\u001b[37mPOST /getsearchentries HTTP/1.1\u001b[0m\" 200 -\n"
     ]
    },
    {
     "name": "stdout",
     "output_type": "stream",
     "text": [
      "['google', 'google i hate you', 'google i know you', 'google i love you', 'google i dont know you', 'google is the best', 'google hello there']\n"
     ]
    },
    {
     "name": "stderr",
     "output_type": "stream",
     "text": [
      "127.0.0.1 - - [14/Aug/2020 19:37:57] \"\u001b[37mPOST /getsearchentries HTTP/1.1\u001b[0m\" 200 -\n",
      "127.0.0.1 - - [14/Aug/2020 19:37:57] \"\u001b[37mPOST /getsearchentries HTTP/1.1\u001b[0m\" 200 -\n",
      "127.0.0.1 - - [14/Aug/2020 19:37:57] \"\u001b[37mPOST /getsearchentries HTTP/1.1\u001b[0m\" 200 -\n",
      "127.0.0.1 - - [14/Aug/2020 19:37:57] \"\u001b[37mPOST /getsearchentries HTTP/1.1\u001b[0m\" 200 -\n",
      "127.0.0.1 - - [14/Aug/2020 19:37:57] \"\u001b[37mPOST /getsearchentries HTTP/1.1\u001b[0m\" 200 -\n"
     ]
    },
    {
     "name": "stdout",
     "output_type": "stream",
     "text": [
      "['google', 'google i hate you', 'google i know you', 'google i love you', 'google i dont know you', 'google is the best', 'google hello there']\n",
      "['google', 'google i hate you', 'google i know you', 'google i love you', 'google i dont know you', 'google is the best', 'google hello there']\n",
      "['bing', 'google', 'google i hate you', 'google i know you', 'google i love you', 'google i dont know you', 'google is the best', 'google hello there']\n",
      "['google', 'google i hate you', 'google i know you', 'google i love you', 'google i dont know you', 'google is the best', 'google hello there']\n",
      "['search', 'information', 'bing', 'google', 'google i hate you', 'google i know you', 'google i love you', 'google i dont know you', 'google is the best', 'google hello there']\n"
     ]
    },
    {
     "name": "stderr",
     "output_type": "stream",
     "text": [
      "127.0.0.1 - - [14/Aug/2020 19:37:58] \"\u001b[37mPOST /getsearchentries HTTP/1.1\u001b[0m\" 200 -\n",
      "127.0.0.1 - - [14/Aug/2020 19:37:58] \"\u001b[37mPOST /getsearchentries HTTP/1.1\u001b[0m\" 200 -\n"
     ]
    },
    {
     "name": "stdout",
     "output_type": "stream",
     "text": [
      "['google', 'google i hate you', 'google i know you', 'google i love you', 'google i dont know you', 'google is the best', 'google hello there']\n",
      "[]\n"
     ]
    },
    {
     "name": "stderr",
     "output_type": "stream",
     "text": [
      "127.0.0.1 - - [14/Aug/2020 19:37:58] \"\u001b[37mPOST /getsearchentries HTTP/1.1\u001b[0m\" 200 -\n",
      "127.0.0.1 - - [14/Aug/2020 19:37:58] \"\u001b[37mPOST /getsearchentries HTTP/1.1\u001b[0m\" 200 -\n"
     ]
    },
    {
     "name": "stdout",
     "output_type": "stream",
     "text": [
      "[]\n",
      "[]\n"
     ]
    },
    {
     "name": "stderr",
     "output_type": "stream",
     "text": [
      "127.0.0.1 - - [14/Aug/2020 19:37:58] \"\u001b[37mPOST /getsearchentries HTTP/1.1\u001b[0m\" 200 -\n",
      "127.0.0.1 - - [14/Aug/2020 19:37:59] \"\u001b[37mPOST /getsearchentries HTTP/1.1\u001b[0m\" 200 -\n"
     ]
    },
    {
     "name": "stdout",
     "output_type": "stream",
     "text": [
      "[]\n",
      "[]\n"
     ]
    },
    {
     "name": "stderr",
     "output_type": "stream",
     "text": [
      "127.0.0.1 - - [14/Aug/2020 19:37:59] \"\u001b[37mPOST /getsearchentries HTTP/1.1\u001b[0m\" 200 -\n"
     ]
    },
    {
     "name": "stdout",
     "output_type": "stream",
     "text": [
      "[]\n"
     ]
    },
    {
     "name": "stderr",
     "output_type": "stream",
     "text": [
      "127.0.0.1 - - [14/Aug/2020 19:37:59] \"\u001b[37mPOST /getsearchentries HTTP/1.1\u001b[0m\" 200 -\n"
     ]
    },
    {
     "name": "stdout",
     "output_type": "stream",
     "text": [
      "[]\n"
     ]
    },
    {
     "name": "stderr",
     "output_type": "stream",
     "text": [
      "127.0.0.1 - - [14/Aug/2020 19:38:00] \"\u001b[37mPOST /getsearchentries HTTP/1.1\u001b[0m\" 200 -\n"
     ]
    },
    {
     "name": "stdout",
     "output_type": "stream",
     "text": [
      "[]\n"
     ]
    },
    {
     "name": "stderr",
     "output_type": "stream",
     "text": [
      "127.0.0.1 - - [14/Aug/2020 19:38:00] \"\u001b[37mPOST /getsearchentries HTTP/1.1\u001b[0m\" 200 -\n",
      "127.0.0.1 - - [14/Aug/2020 19:38:00] \"\u001b[37mPOST /getsearchentries HTTP/1.1\u001b[0m\" 200 -\n"
     ]
    },
    {
     "name": "stdout",
     "output_type": "stream",
     "text": [
      "[]\n",
      "[]\n"
     ]
    },
    {
     "name": "stderr",
     "output_type": "stream",
     "text": [
      "127.0.0.1 - - [14/Aug/2020 19:38:01] \"\u001b[37mPOST /getsearchentries HTTP/1.1\u001b[0m\" 200 -\n"
     ]
    },
    {
     "name": "stdout",
     "output_type": "stream",
     "text": [
      "[]\n"
     ]
    },
    {
     "name": "stderr",
     "output_type": "stream",
     "text": [
      "127.0.0.1 - - [14/Aug/2020 19:38:01] \"\u001b[37mPOST /getsearchentries HTTP/1.1\u001b[0m\" 200 -\n",
      "127.0.0.1 - - [14/Aug/2020 19:38:01] \"\u001b[37mPOST /getsearchentries HTTP/1.1\u001b[0m\" 200 -\n",
      "127.0.0.1 - - [14/Aug/2020 19:38:01] \"\u001b[37mPOST /getsearchentries HTTP/1.1\u001b[0m\" 200 -\n",
      "127.0.0.1 - - [14/Aug/2020 19:38:01] \"\u001b[37mPOST /getsearchentries HTTP/1.1\u001b[0m\" 200 -\n",
      "127.0.0.1 - - [14/Aug/2020 19:38:01] \"\u001b[37mPOST /getsearchentries HTTP/1.1\u001b[0m\" 200 -\n",
      "127.0.0.1 - - [14/Aug/2020 19:38:01] \"\u001b[37mPOST /getsearchentries HTTP/1.1\u001b[0m\" 200 -\n",
      "127.0.0.1 - - [14/Aug/2020 19:38:01] \"\u001b[37mPOST /getsearchentries HTTP/1.1\u001b[0m\" 200 -\n"
     ]
    },
    {
     "name": "stdout",
     "output_type": "stream",
     "text": [
      "[]\n",
      "[]\n",
      "[]\n",
      "[]\n",
      "[]\n",
      "[]\n",
      "['google', 'google i hate you', 'google i know you', 'google i love you', 'google i dont know you', 'google is the best', 'google hello there']\n"
     ]
    },
    {
     "name": "stderr",
     "output_type": "stream",
     "text": [
      "127.0.0.1 - - [14/Aug/2020 19:38:01] \"\u001b[37mPOST /getsearchentries HTTP/1.1\u001b[0m\" 200 -\n"
     ]
    },
    {
     "name": "stdout",
     "output_type": "stream",
     "text": [
      "['search', 'information', 'bing', 'google', 'google i hate you', 'google i know you', 'google i love you', 'google i dont know you', 'google is the best', 'google hello there']\n"
     ]
    },
    {
     "name": "stderr",
     "output_type": "stream",
     "text": [
      "127.0.0.1 - - [14/Aug/2020 19:38:02] \"\u001b[37mPOST /getsearchentries HTTP/1.1\u001b[0m\" 200 -\n",
      "127.0.0.1 - - [14/Aug/2020 19:38:02] \"\u001b[37mPOST /getsearchentries HTTP/1.1\u001b[0m\" 200 -\n"
     ]
    },
    {
     "name": "stdout",
     "output_type": "stream",
     "text": [
      "['search', 'google i hate you', 'google is the best', 'google hello there']\n",
      "['google is the best', 'google hello there']\n"
     ]
    },
    {
     "name": "stderr",
     "output_type": "stream",
     "text": [
      "127.0.0.1 - - [14/Aug/2020 19:38:02] \"\u001b[37mPOST /getsearchentries HTTP/1.1\u001b[0m\" 200 -\n",
      "127.0.0.1 - - [14/Aug/2020 19:38:02] \"\u001b[37mPOST /getsearchentries HTTP/1.1\u001b[0m\" 200 -\n"
     ]
    },
    {
     "name": "stdout",
     "output_type": "stream",
     "text": [
      "['google hello there']\n",
      "['google hello there']\n"
     ]
    },
    {
     "name": "stderr",
     "output_type": "stream",
     "text": [
      "127.0.0.1 - - [14/Aug/2020 19:38:02] \"\u001b[37mPOST /getsearchentries HTTP/1.1\u001b[0m\" 200 -\n",
      "127.0.0.1 - - [14/Aug/2020 19:38:03] \"\u001b[37mPOST /getsearchentries HTTP/1.1\u001b[0m\" 200 -\n"
     ]
    },
    {
     "name": "stdout",
     "output_type": "stream",
     "text": [
      "['google hello there']\n",
      "['google hello there']\n"
     ]
    },
    {
     "name": "stderr",
     "output_type": "stream",
     "text": [
      "127.0.0.1 - - [14/Aug/2020 19:38:03] \"\u001b[37mPOST /getsearchentries HTTP/1.1\u001b[0m\" 200 -\n",
      "127.0.0.1 - - [14/Aug/2020 19:38:03] \"\u001b[37mPOST /getsearchentries HTTP/1.1\u001b[0m\" 200 -\n"
     ]
    },
    {
     "name": "stdout",
     "output_type": "stream",
     "text": [
      "['google hello there']\n",
      "['google hello there']\n"
     ]
    },
    {
     "name": "stderr",
     "output_type": "stream",
     "text": [
      "127.0.0.1 - - [14/Aug/2020 19:38:03] \"\u001b[37mPOST /getsearchentries HTTP/1.1\u001b[0m\" 200 -\n",
      "127.0.0.1 - - [14/Aug/2020 19:38:04] \"\u001b[37mPOST /getsearchentries HTTP/1.1\u001b[0m\" 200 -\n"
     ]
    },
    {
     "name": "stdout",
     "output_type": "stream",
     "text": [
      "['google hello there']\n",
      "['google hello there']\n"
     ]
    },
    {
     "name": "stderr",
     "output_type": "stream",
     "text": [
      "127.0.0.1 - - [14/Aug/2020 19:38:04] \"\u001b[37mPOST /getsearchentries HTTP/1.1\u001b[0m\" 200 -\n",
      "127.0.0.1 - - [14/Aug/2020 19:38:04] \"\u001b[37mPOST /getsearchentries HTTP/1.1\u001b[0m\" 200 -\n"
     ]
    },
    {
     "name": "stdout",
     "output_type": "stream",
     "text": [
      "['google hello there']\n",
      "['google hello there']\n"
     ]
    },
    {
     "name": "stderr",
     "output_type": "stream",
     "text": [
      "127.0.0.1 - - [14/Aug/2020 19:38:04] \"\u001b[37mPOST /getsearchentries HTTP/1.1\u001b[0m\" 200 -\n",
      "127.0.0.1 - - [14/Aug/2020 19:38:04] \"\u001b[37mPOST /getsearchentries HTTP/1.1\u001b[0m\" 200 -\n",
      "127.0.0.1 - - [14/Aug/2020 19:38:04] \"\u001b[37mPOST /getsearchentries HTTP/1.1\u001b[0m\" 200 -\n",
      "127.0.0.1 - - [14/Aug/2020 19:38:04] \"\u001b[37mPOST /getsearchentries HTTP/1.1\u001b[0m\" 200 -\n",
      "127.0.0.1 - - [14/Aug/2020 19:38:04] \"\u001b[37mPOST /getsearchentries HTTP/1.1\u001b[0m\" 200 -\n"
     ]
    },
    {
     "name": "stdout",
     "output_type": "stream",
     "text": [
      "['google hello there']\n",
      "['google hello there']\n",
      "['google hello there']\n",
      "['google hello there']\n",
      "['google hello there']\n"
     ]
    },
    {
     "name": "stderr",
     "output_type": "stream",
     "text": [
      "127.0.0.1 - - [14/Aug/2020 19:38:05] \"\u001b[37mPOST /getsearchentries HTTP/1.1\u001b[0m\" 200 -\n",
      "127.0.0.1 - - [14/Aug/2020 19:38:05] \"\u001b[37mPOST /getsearchentries HTTP/1.1\u001b[0m\" 200 -\n",
      "127.0.0.1 - - [14/Aug/2020 19:38:05] \"\u001b[37mPOST /getsearchentries HTTP/1.1\u001b[0m\" 200 -\n",
      "127.0.0.1 - - [14/Aug/2020 19:38:05] \"\u001b[37mPOST /getsearchentries HTTP/1.1\u001b[0m\" 200 -\n",
      "127.0.0.1 - - [14/Aug/2020 19:38:05] \"\u001b[37mPOST /getsearchentries HTTP/1.1\u001b[0m\" 200 -\n"
     ]
    },
    {
     "name": "stdout",
     "output_type": "stream",
     "text": [
      "['google hello there']\n",
      "['google hello there']\n",
      "['google is the best', 'google hello there']\n",
      "['search', 'google i hate you', 'google is the best', 'google hello there']\n",
      "['search', 'information', 'bing', 'google', 'google i hate you', 'google i know you', 'google i love you', 'google i dont know you', 'google is the best', 'google hello there']\n"
     ]
    },
    {
     "name": "stderr",
     "output_type": "stream",
     "text": [
      "127.0.0.1 - - [14/Aug/2020 19:38:05] \"\u001b[37mPOST /getsearchentries HTTP/1.1\u001b[0m\" 200 -\n",
      "127.0.0.1 - - [14/Aug/2020 19:38:05] \"\u001b[37mPOST /getsearchentries HTTP/1.1\u001b[0m\" 200 -\n"
     ]
    },
    {
     "name": "stdout",
     "output_type": "stream",
     "text": [
      "['google i know you', 'google i dont know you']\n",
      "[]\n"
     ]
    },
    {
     "name": "stderr",
     "output_type": "stream",
     "text": [
      "127.0.0.1 - - [14/Aug/2020 19:38:05] \"\u001b[37mPOST /getsearchentries HTTP/1.1\u001b[0m\" 200 -\n",
      "127.0.0.1 - - [14/Aug/2020 19:38:05] \"\u001b[37mPOST /getsearchentries HTTP/1.1\u001b[0m\" 200 -\n"
     ]
    },
    {
     "name": "stdout",
     "output_type": "stream",
     "text": [
      "[]\n",
      "[]\n"
     ]
    },
    {
     "name": "stderr",
     "output_type": "stream",
     "text": [
      "127.0.0.1 - - [14/Aug/2020 19:38:05] \"\u001b[37mPOST /getsearchentries HTTP/1.1\u001b[0m\" 200 -\n"
     ]
    },
    {
     "name": "stdout",
     "output_type": "stream",
     "text": [
      "[]\n"
     ]
    },
    {
     "name": "stderr",
     "output_type": "stream",
     "text": [
      "127.0.0.1 - - [14/Aug/2020 19:38:06] \"\u001b[37mPOST /getsearchentries HTTP/1.1\u001b[0m\" 200 -\n",
      "127.0.0.1 - - [14/Aug/2020 19:38:06] \"\u001b[37mPOST /getsearchentries HTTP/1.1\u001b[0m\" 200 -\n"
     ]
    },
    {
     "name": "stdout",
     "output_type": "stream",
     "text": [
      "[]\n",
      "[]\n"
     ]
    },
    {
     "name": "stderr",
     "output_type": "stream",
     "text": [
      "127.0.0.1 - - [14/Aug/2020 19:38:06] \"\u001b[37mPOST /getsearchentries HTTP/1.1\u001b[0m\" 200 -\n"
     ]
    },
    {
     "name": "stdout",
     "output_type": "stream",
     "text": [
      "[]\n"
     ]
    },
    {
     "name": "stderr",
     "output_type": "stream",
     "text": [
      "127.0.0.1 - - [14/Aug/2020 19:38:07] \"\u001b[37mPOST /getsearchentries HTTP/1.1\u001b[0m\" 200 -\n"
     ]
    },
    {
     "name": "stdout",
     "output_type": "stream",
     "text": [
      "[]\n"
     ]
    },
    {
     "name": "stderr",
     "output_type": "stream",
     "text": [
      "127.0.0.1 - - [14/Aug/2020 19:38:07] \"\u001b[37mPOST /getsearchentries HTTP/1.1\u001b[0m\" 200 -\n"
     ]
    },
    {
     "name": "stdout",
     "output_type": "stream",
     "text": [
      "[]\n"
     ]
    },
    {
     "name": "stderr",
     "output_type": "stream",
     "text": [
      "127.0.0.1 - - [14/Aug/2020 19:38:07] \"\u001b[37mPOST /getsearchentries HTTP/1.1\u001b[0m\" 200 -\n"
     ]
    },
    {
     "name": "stdout",
     "output_type": "stream",
     "text": [
      "[]\n"
     ]
    },
    {
     "name": "stderr",
     "output_type": "stream",
     "text": [
      "127.0.0.1 - - [14/Aug/2020 19:38:07] \"\u001b[37mPOST /getsearchentries HTTP/1.1\u001b[0m\" 200 -\n"
     ]
    },
    {
     "name": "stdout",
     "output_type": "stream",
     "text": [
      "[]\n"
     ]
    },
    {
     "name": "stderr",
     "output_type": "stream",
     "text": [
      "127.0.0.1 - - [14/Aug/2020 19:38:08] \"\u001b[37mPOST / HTTP/1.1\u001b[0m\" 200 -\n",
      "127.0.0.1 - - [14/Aug/2020 19:38:10] \"\u001b[37mPOST /getsearchentries HTTP/1.1\u001b[0m\" 200 -\n",
      "127.0.0.1 - - [14/Aug/2020 19:38:10] \"\u001b[37mPOST /getsearchentries HTTP/1.1\u001b[0m\" 200 -\n"
     ]
    },
    {
     "name": "stdout",
     "output_type": "stream",
     "text": [
      "['search', 'google i hate you', 'google is the best', 'google hello there', 'whats up']\n",
      "['google is the best', 'google hello there']\n"
     ]
    },
    {
     "name": "stderr",
     "output_type": "stream",
     "text": [
      "127.0.0.1 - - [14/Aug/2020 19:38:10] \"\u001b[37mPOST /getsearchentries HTTP/1.1\u001b[0m\" 200 -\n",
      "127.0.0.1 - - [14/Aug/2020 19:38:11] \"\u001b[37mPOST /getsearchentries HTTP/1.1\u001b[0m\" 200 -\n"
     ]
    },
    {
     "name": "stdout",
     "output_type": "stream",
     "text": [
      "['google hello there']\n",
      "['google hello there']\n"
     ]
    },
    {
     "name": "stderr",
     "output_type": "stream",
     "text": [
      "127.0.0.1 - - [14/Aug/2020 19:38:11] \"\u001b[37mPOST /getsearchentries HTTP/1.1\u001b[0m\" 200 -\n",
      "127.0.0.1 - - [14/Aug/2020 19:38:11] \"\u001b[37mPOST /getsearchentries HTTP/1.1\u001b[0m\" 200 -\n"
     ]
    },
    {
     "name": "stdout",
     "output_type": "stream",
     "text": [
      "['google hello there']\n",
      "['google hello there']\n"
     ]
    },
    {
     "name": "stderr",
     "output_type": "stream",
     "text": [
      "127.0.0.1 - - [14/Aug/2020 19:38:11] \"\u001b[37mPOST /getsearchentries HTTP/1.1\u001b[0m\" 200 -\n",
      "127.0.0.1 - - [14/Aug/2020 19:38:11] \"\u001b[37mPOST /getsearchentries HTTP/1.1\u001b[0m\" 200 -\n"
     ]
    },
    {
     "name": "stdout",
     "output_type": "stream",
     "text": [
      "[]\n",
      "[]\n"
     ]
    },
    {
     "name": "stderr",
     "output_type": "stream",
     "text": [
      "127.0.0.1 - - [14/Aug/2020 19:38:11] \"\u001b[37mPOST /getsearchentries HTTP/1.1\u001b[0m\" 200 -\n"
     ]
    },
    {
     "name": "stdout",
     "output_type": "stream",
     "text": [
      "[]\n"
     ]
    },
    {
     "name": "stderr",
     "output_type": "stream",
     "text": [
      "127.0.0.1 - - [14/Aug/2020 19:38:11] \"\u001b[37mPOST / HTTP/1.1\u001b[0m\" 200 -\n",
      "127.0.0.1 - - [14/Aug/2020 19:38:14] \"\u001b[37mPOST /getsearchentries HTTP/1.1\u001b[0m\" 200 -\n",
      "127.0.0.1 - - [14/Aug/2020 19:38:14] \"\u001b[37mPOST /getsearchentries HTTP/1.1\u001b[0m\" 200 -\n"
     ]
    },
    {
     "name": "stdout",
     "output_type": "stream",
     "text": [
      "['search', 'google i hate you', 'google is the best', 'google hello there', 'whats up', 'hello man']\n",
      "['google is the best', 'google hello there', 'hello man']\n"
     ]
    },
    {
     "name": "stderr",
     "output_type": "stream",
     "text": [
      "127.0.0.1 - - [14/Aug/2020 19:38:14] \"\u001b[37mPOST /getsearchentries HTTP/1.1\u001b[0m\" 200 -\n",
      "127.0.0.1 - - [14/Aug/2020 19:38:15] \"\u001b[37mPOST /getsearchentries HTTP/1.1\u001b[0m\" 200 -\n"
     ]
    },
    {
     "name": "stdout",
     "output_type": "stream",
     "text": [
      "['google hello there', 'hello man']\n",
      "['google hello there', 'hello man']\n"
     ]
    },
    {
     "name": "stderr",
     "output_type": "stream",
     "text": [
      "127.0.0.1 - - [14/Aug/2020 19:38:15] \"\u001b[37mPOST /getsearchentries HTTP/1.1\u001b[0m\" 200 -\n",
      "127.0.0.1 - - [14/Aug/2020 19:38:15] \"\u001b[37mPOST /getsearchentries HTTP/1.1\u001b[0m\" 200 -\n"
     ]
    },
    {
     "name": "stdout",
     "output_type": "stream",
     "text": [
      "['google hello there', 'hello man']\n",
      "['google hello there', 'hello man']\n"
     ]
    },
    {
     "name": "stderr",
     "output_type": "stream",
     "text": [
      "127.0.0.1 - - [14/Aug/2020 19:38:15] \"\u001b[37mPOST /getsearchentries HTTP/1.1\u001b[0m\" 200 -\n",
      "127.0.0.1 - - [14/Aug/2020 19:38:15] \"\u001b[37mPOST /getsearchentries HTTP/1.1\u001b[0m\" 200 -\n"
     ]
    },
    {
     "name": "stdout",
     "output_type": "stream",
     "text": [
      "['hello man']\n",
      "['hello man']\n"
     ]
    },
    {
     "name": "stderr",
     "output_type": "stream",
     "text": [
      "127.0.0.1 - - [14/Aug/2020 19:38:16] \"\u001b[37mPOST /getsearchentries HTTP/1.1\u001b[0m\" 200 -\n"
     ]
    },
    {
     "name": "stdout",
     "output_type": "stream",
     "text": [
      "['hello man']\n"
     ]
    },
    {
     "name": "stderr",
     "output_type": "stream",
     "text": [
      "127.0.0.1 - - [14/Aug/2020 19:38:16] \"\u001b[37mPOST /getsearchentries HTTP/1.1\u001b[0m\" 200 -\n"
     ]
    },
    {
     "name": "stdout",
     "output_type": "stream",
     "text": [
      "['google hello there', 'hello man']\n"
     ]
    },
    {
     "name": "stderr",
     "output_type": "stream",
     "text": [
      "127.0.0.1 - - [14/Aug/2020 19:38:17] \"\u001b[37mPOST /getsearchentries HTTP/1.1\u001b[0m\" 200 -\n",
      "127.0.0.1 - - [14/Aug/2020 19:38:17] \"\u001b[37mPOST /getsearchentries HTTP/1.1\u001b[0m\" 200 -\n",
      "127.0.0.1 - - [14/Aug/2020 19:38:17] \"\u001b[37mPOST /getsearchentries HTTP/1.1\u001b[0m\" 200 -\n",
      "127.0.0.1 - - [14/Aug/2020 19:38:17] \"\u001b[37mPOST /getsearchentries HTTP/1.1\u001b[0m\" 200 -\n"
     ]
    },
    {
     "name": "stdout",
     "output_type": "stream",
     "text": [
      "['google hello there', 'hello man']\n",
      "['google hello there', 'hello man']\n",
      "['google hello there', 'hello man']\n",
      "['google is the best', 'google hello there', 'hello man']\n"
     ]
    },
    {
     "name": "stderr",
     "output_type": "stream",
     "text": [
      "127.0.0.1 - - [14/Aug/2020 19:38:17] \"\u001b[37mPOST /getsearchentries HTTP/1.1\u001b[0m\" 200 -\n",
      "127.0.0.1 - - [14/Aug/2020 19:38:17] \"\u001b[37mPOST /getsearchentries HTTP/1.1\u001b[0m\" 200 -\n"
     ]
    },
    {
     "name": "stdout",
     "output_type": "stream",
     "text": [
      "['search', 'google i hate you', 'google is the best', 'google hello there', 'whats up', 'hello man']\n",
      "['search', 'information', 'bing', 'google', 'google i hate you', 'google i know you', 'google i love you', 'google i dont know you', 'google is the best', 'google hello there', 'whats up', 'hello man']\n"
     ]
    }
   ],
   "source": [
    "app.run(port = 5000)"
   ]
  },
  {
   "cell_type": "code",
   "execution_count": null,
   "metadata": {},
   "outputs": [],
   "source": []
  }
 ],
 "metadata": {
  "kernelspec": {
   "display_name": "Python 3",
   "language": "python",
   "name": "python3"
  },
  "language_info": {
   "codemirror_mode": {
    "name": "ipython",
    "version": 3
   },
   "file_extension": ".py",
   "mimetype": "text/x-python",
   "name": "python",
   "nbconvert_exporter": "python",
   "pygments_lexer": "ipython3",
   "version": "3.6.4"
  }
 },
 "nbformat": 4,
 "nbformat_minor": 2
}
